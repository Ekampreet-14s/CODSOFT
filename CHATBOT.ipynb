{
  "cells": [
    {
      "cell_type": "code",
      "execution_count": null,
      "metadata": {
        "colab": {
          "base_uri": "https://localhost:8080/"
        },
        "id": "MVL-CWuY56GT",
        "outputId": "eb2e3f89-26ca-48cb-eb8b-16e71b58b45c"
      },
      "outputs": [
        {
          "output_type": "stream",
          "name": "stdout",
          "text": [
            "Chatbot: Hello! How can I assist you? (type 'bye' to exit)\n",
            "You: what is your name\n",
            "Chatbot: I'm a chatbot programmed by Ekampreet Singh.\n",
            "You: what is the meaning of life\n",
            "Chatbot: CODING\n",
            "You: what is color\n",
            "Chatbot: I'm sorry, I don't understand. Can you please rephrase?\n"
          ]
        }
      ],
      "source": [
        "# Define a dictionary of patterns and responses\n",
        "rules = {\n",
        "    \"hello\": \"Hello! How can I assist you?\",\n",
        "    \"how are you\": \"I'm just a chatbot, but thanks for asking!\",\n",
        "    \"what is your name\": \"I'm a chatbot programmed by Ekampreet Singh.\",\n",
        "    \"what is your favourite book\": \"Programming.\",\n",
        "    \"what is the meaning of life\": \"CODING\",\n",
        "    \"bye\": \"Goodbye! Have a great day!\",\n",
        "    \"default\": \"I'm sorry, I don't understand. Can you please rephrase?\"\n",
        "}\n",
        "\n",
        "# Function to match user input with patterns and provide responses\n",
        "def chatbot_response(user_input):\n",
        "    for pattern, response in rules.items():\n",
        "        if pattern in user_input.lower():\n",
        "            return response\n",
        "    return rules[\"default\"]\n",
        "\n",
        "# Main chat loop\n",
        "print(\"Chatbot: Hello! How can I assist you? (type 'bye' to exit)\")\n",
        "\n",
        "while True:\n",
        "    user_input = input(\"You: \")\n",
        "    if user_input.lower() == \"bye\":\n",
        "        print(\"Chatbot: Goodbye! Have a great day!\")\n",
        "        break\n",
        "    response = chatbot_response(user_input)\n",
        "    print(\"Chatbot:\", response)\n"
      ]
    }
  ],
  "metadata": {
    "colab": {
      "provenance": []
    },
    "kernelspec": {
      "display_name": "Python 3",
      "name": "python3"
    },
    "language_info": {
      "name": "python"
    }
  },
  "nbformat": 4,
  "nbformat_minor": 0
}