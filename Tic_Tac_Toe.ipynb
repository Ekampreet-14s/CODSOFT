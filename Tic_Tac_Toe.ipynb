{
  "cells": [
    {
      "cell_type": "code",
      "execution_count": 1,
      "metadata": {
        "id": "8RX8-7SswPAB"
      },
      "outputs": [],
      "source": [
        "import math"
      ]
    },
    {
      "cell_type": "code",
      "execution_count": 2,
      "metadata": {
        "id": "Wk8SATp3xDyn"
      },
      "outputs": [],
      "source": [
        "# Function to print the Tic-Tac-Toe board\n",
        "def print_board(board):\n",
        "    for i in range(0, 9, 3):\n",
        "        print(f\"{board[i]} | {board[i + 1]} | {board[i + 2]}\")\n",
        "        if i < 6:\n",
        "            print(\"---------\")"
      ]
    },
    {
      "cell_type": "code",
      "execution_count": 3,
      "metadata": {
        "id": "fDIwMNk2woyX"
      },
      "outputs": [],
      "source": [
        "# Function to check if the game is over (win, draw, or not)\n",
        "def game_over(board):\n",
        "    # Check rows, columns, and diagonals\n",
        "    for i in range(0, 9, 3):\n",
        "        if board[i] == board[i + 1] == board[i + 2] and board[i] != \" \":\n",
        "            return True, board[i]\n",
        "\n",
        "    for i in range(3):\n",
        "        if board[i] == board[i + 3] == board[i + 6] and board[i] != \" \":\n",
        "            return True, board[i]\n",
        "\n",
        "    if board[0] == board[4] == board[8] and board[0] != \" \":\n",
        "        return True, board[0]\n",
        "\n",
        "    if board[2] == board[4] == board[6] and board[2] != \" \":\n",
        "        return True, board[2]\n",
        "\n",
        "    # Check if the board is full (draw)\n",
        "    if \" \" not in board:\n",
        "        return True, \"draw\"\n",
        "\n",
        "    # Game is not over yet\n",
        "    return False, None"
      ]
    },
    {
      "cell_type": "code",
      "execution_count": 4,
      "metadata": {
        "id": "EPLvV7r5wsSy"
      },
      "outputs": [],
      "source": [
        "# Function to get the available moves on the board\n",
        "def get_available_moves(board):\n",
        "    return [i for i in range(9) if board[i] == \" \"]"
      ]
    },
    {
      "cell_type": "code",
      "execution_count": 5,
      "metadata": {
        "id": "jUxTFz3pwRoh"
      },
      "outputs": [],
      "source": [
        "def minimax(board, depth, is_maximizing, alpha, beta):\n",
        "    # Base case: check if the game is over or the maximum depth is reached\n",
        "    game_over_status, result = game_over(board)\n",
        "    if depth == 0 or game_over_status:\n",
        "        if game_over_status:\n",
        "            if result == \"X\":\n",
        "                return -10 + depth\n",
        "            elif result == \"O\":\n",
        "                return 10 - depth\n",
        "            else:  # Draw\n",
        "                return 0\n",
        "        return 0\n",
        "\n",
        "    if is_maximizing:\n",
        "        best_score = -math.inf\n",
        "        for move in get_available_moves(board):\n",
        "            board[move] = \"O\"\n",
        "            score = minimax(board, depth - 1, False, alpha, beta)\n",
        "            board[move] = \" \"\n",
        "            best_score = max(best_score, score)\n",
        "            alpha = max(alpha, best_score)\n",
        "            if beta <= alpha:\n",
        "                break\n",
        "        return best_score\n",
        "    else:\n",
        "        best_score = math.inf\n",
        "        for move in get_available_moves(board):\n",
        "            board[move] = \"X\"\n",
        "            score = minimax(board, depth - 1, True, alpha, beta)\n",
        "            board[move] = \" \"\n",
        "            best_score = min(best_score, score)\n",
        "            beta = min(beta, best_score)\n",
        "            if beta <= alpha:\n",
        "                break\n",
        "        return best_score"
      ]
    },
    {
      "cell_type": "code",
      "execution_count": 6,
      "metadata": {
        "id": "46QtQJdRwUOW"
      },
      "outputs": [],
      "source": [
        "def ai_move(board):\n",
        "    best_score = -math.inf\n",
        "    best_move = None\n",
        "    for move in get_available_moves(board):\n",
        "        board[move] = \"O\"\n",
        "        score = minimax(board, 6, False, -math.inf, math.inf)  # Increase depth to 6\n",
        "        board[move] = \" \"\n",
        "        if score > best_score:\n",
        "            best_score = score\n",
        "            best_move = move\n",
        "    return best_move"
      ]
    },
    {
      "cell_type": "code",
      "execution_count": 7,
      "metadata": {
        "colab": {
          "base_uri": "https://localhost:8080/"
        },
        "id": "HLj3Ae0txbJb",
        "outputId": "333d0072-18dd-4509-8fd9-2bdfcfd4e595"
      },
      "outputs": [
        {
          "output_type": "stream",
          "name": "stdout",
          "text": [
            "  |   |  \n",
            "---------\n",
            "  |   |  \n",
            "---------\n",
            "  |   |  \n",
            "Enter your move (1-9): 5\n",
            "O |   |  \n",
            "---------\n",
            "  | X |  \n",
            "---------\n",
            "  |   |  \n",
            "Enter your move (1-9): 4\n",
            "O |   |  \n",
            "---------\n",
            "X | X | O\n",
            "---------\n",
            "  |   |  \n",
            "Enter your move (1-9): 7\n",
            "O |   | O\n",
            "---------\n",
            "X | X | O\n",
            "---------\n",
            "X |   |  \n",
            "Enter your move (1-9): 2\n",
            "O | X | O\n",
            "---------\n",
            "X | X | O\n",
            "---------\n",
            "X |   | O\n",
            "O wins!\n"
          ]
        }
      ],
      "source": [
        "def play_game():\n",
        "    board = [\" \" for _ in range(9)]\n",
        "    while True:\n",
        "        print_board(board)\n",
        "        game_over_status, result = game_over(board)\n",
        "        if game_over_status:\n",
        "            if result == \"draw\":\n",
        "                print(\"It's a draw!\")\n",
        "            else:\n",
        "                print(f\"{result} wins!\")\n",
        "            break\n",
        "\n",
        "        player_move = int(input(\"Enter your move (1-9): \")) - 1\n",
        "        if board[player_move] != \" \" or player_move < 0 or player_move > 8:\n",
        "            print(\"Invalid move. Try again.\")\n",
        "            continue\n",
        "        board[player_move] = \"X\"\n",
        "\n",
        "        game_over_status, result = game_over(board)\n",
        "        if game_over_status:\n",
        "            if result == \"draw\":\n",
        "                print(\"It's a draw!\")\n",
        "            else:\n",
        "                print(f\"{result} wins!\")\n",
        "            break\n",
        "\n",
        "        ai_player_move = ai_move(board)\n",
        "        board[ai_player_move] = \"O\"\n",
        "\n",
        "play_game()"
      ]
    }
  ],
  "metadata": {
    "colab": {
      "provenance": []
    },
    "kernelspec": {
      "display_name": "Python 3",
      "name": "python3"
    },
    "language_info": {
      "name": "python"
    }
  },
  "nbformat": 4,
  "nbformat_minor": 0
}